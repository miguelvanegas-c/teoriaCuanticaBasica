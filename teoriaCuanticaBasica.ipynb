{
 "cells": [
  {
   "cell_type": "markdown",
   "metadata": {},
   "source": [
    "# Simule el primer sistema cuántico descrito en la sección 4.1.\n",
    "\n",
    " El sistema consiste en una partícula confinada a un conjunto discreto de posiciones en una línea. El simulador debe permitir especificar el número de posiciones y un vector ket de estado asignando las amplitudes.\n",
    "\n",
    "1. El sistema debe calcular la probabilidad de encontrarlo en una posición en particular.\n",
    "\n",
    "2. El sistema si se le da otro vector Ket debe buscar la probabilidad de transitar del primer vector al segundo."
   ]
  },
  {
   "cell_type": "code",
   "execution_count": 1,
   "metadata": {},
   "outputs": [
    {
     "name": "stdout",
     "output_type": "stream",
     "text": [
      "La probabilidad de que una aprticula se encuentre en la posicion  0\n",
      "0.4999999999999999\n",
      "La probabilidad de transicion entre el vector  [0.70710678 0.         0.         0.70710678 0.        ]  y el vector  [0. 0. 1. 0. 0.]\n",
      "0.0\n"
     ]
    }
   ],
   "source": [
    "import numpy as np\n",
    "\n",
    "# primer punto\n",
    "# Primero definir las precondiciones del sistema.\n",
    "numeroDePosiciones = 5 \n",
    "vectorKet = np.array([1,0,0,1,0])\n",
    "\n",
    "# Se encontrara la norma del vectorKet.\n",
    "vectorKetNorma = np.linalg.norm(vectorKet)\n",
    "vectorKet = vectorKet / vectorKetNorma\n",
    "\n",
    "posicion = 0 # Posicion de la cual se quiere saber la probabilidad\n",
    "print(\"La probabilidad de que una aprticula se encuentre en la posicion \",posicion)\n",
    "probabilidadPosicion = vectorKet[0]**2\n",
    "print(probabilidadPosicion)\n",
    "\n",
    "vectorKet2 = np.array([0,0,1,0,0]) # Vector el cual se quiere calcular la probabilidad de transicion\n",
    "# Se encontrara la norma del vectorKet2.\n",
    "vectorKet2Norma = np.linalg.norm(vectorKet2)\n",
    "vectorKet2 = vectorKet2 / vectorKet2Norma\n",
    "\n",
    "probabilidadTransicion = np.dot(np.conjugate(vectorKet2.T),vectorKet)\n",
    "print(\"La probabilidad de transicion entre el vector \",vectorKet, \" y el vector \", vectorKet2)\n",
    "print(probabilidadTransicion)\n",
    "\n",
    "\n"
   ]
  },
  {
   "cell_type": "markdown",
   "metadata": {},
   "source": [
    "# Complete los retos de programación del capítulo 4.\n",
    "1. Amplitud de transición. El sistema puede recibir dos vectores y calcular la probabilidad de transitar de el uno al otro después de hacer la observación\n",
    "\n",
    "2. Ahora con una matriz que describa un observable y un vector ket, el sistema revisa que la matriz sea hermitiana, y si lo es, calcula la media y la varianza del observable en el estado dado.\n",
    "\n",
    "3. El sistema calcula los valores propios del observable y la probabilidad de que el sistema transite a alguno de los vectores propios después de la observación.\n",
    "\n",
    "4. Se considera la dinámica del sistema. Ahora con una serie de matrices Un el sistema calcula el estado final a partir de un estado inicial."
   ]
  },
  {
   "cell_type": "markdown",
   "metadata": {},
   "source": [
    "# ESTE PUNTO SE ENCUENTRA EN EL PUNTO4.PY"
   ]
  },
  {
   "cell_type": "markdown",
   "metadata": {},
   "source": [
    "# Realice los siguientes problemas e incluyalos como ejemplos\n",
    "Modele en su librería los problemas\n",
    "4.3.1\n",
    "4.3.2\n",
    "4.4.1\n",
    "4.4.2\n",
    "Desarrolle e incluya en el Github una discusión de los ejercicios 4.5.2 y 4.5.3"
   ]
  },
  {
   "cell_type": "code",
   "execution_count": 18,
   "metadata": {},
   "outputs": [
    {
     "name": "stdout",
     "output_type": "stream",
     "text": [
      "4.3.1\n",
      "La probabilidad de transicion del vectorKet al vector e1 es la siguiente: \n",
      "Los estados son los siguientes\n",
      "[[ 0.70710678 -0.70710678]\n",
      " [ 0.70710678  0.70710678]]\n",
      "4.3.2\n",
      "las probabilidades son del vectorKet a e1\n",
      "0.4999999999999999\n",
      "las probabilidades son del vectorKet a e2\n",
      "0.4999999999999999\n",
      "calcular el valor medio primero multiplicando probabilidad * valorPropio + la otra probabilidad*el otro valor propio\n",
      "[ 1. -1.] [np.float64(0.4999999999999999), np.float64(0.4999999999999999)]\n",
      "0.0\n",
      "Y al calular la media con la formula origianl da el siguiente resultado\n",
      "0.0\n",
      "4.4.1\n",
      "Si es unataria\n",
      "4.4.2\n",
      "El estado despues de tres pasos es el siguiente:  [ 0.        +0.j         -0.70710678+0.70710678j  0.        +0.j\n",
      "  0.        +0.j        ]\n"
     ]
    }
   ],
   "source": [
    "# Con la libreria que creamos en el punto anterior desarrollaremos los siguientes ejercicios\n",
    "# 4.3.1\n",
    "import numpy as np\n",
    "import punto4 as p\n",
    "\n",
    "print(\"4.3.1\")\n",
    "print(\"La probabilidad de transicion del vectorKet al vector e1 es la siguiente: \")\n",
    "vectorKet =[1,0]\n",
    "matriz = [[0,1],[1,0]]\n",
    "probabilidades, valoresPropios,vectoresPropios = p.calculoTransitoDeVectoresPropios(matriz,vectorKet)\n",
    "print(\"Los estados son los siguientes\")\n",
    "print(vectoresPropios)\n",
    "\n",
    "#4.3.2\n",
    "print(\"4.3.2\")\n",
    "print(\"las probabilidades son del vectorKet a e1\")\n",
    "print(probabilidades[0])\n",
    "print(\"las probabilidades son del vectorKet a e2\")\n",
    "print(probabilidades[1])\n",
    "\n",
    "print(\"calcular el valor medio primero multiplicando probabilidad * valorPropio + la otra probabilidad*el otro valor propio\")\n",
    "print(valoresPropios,probabilidades)\n",
    "media = probabilidades[0]*int(np.int32(valoresPropios[0])) \n",
    "media += probabilidades[1]*int(np.int32(valoresPropios[1])) \n",
    "print(media)\n",
    "\n",
    "print(\"Y al calular la media con la formula origianl da el siguiente resultado\")\n",
    "print(p.calculaMedia(matriz,vectorKet)[0][0])\n",
    "\n",
    "# 4.4.1\n",
    "print(\"4.4.1\")\n",
    "U1 = [[0,1],[1,0]]\n",
    "a = 2**(1/2)/2\n",
    "U2 = [[a,a],[a,-a]]\n",
    "U3 = np.dot(U1,U2)\n",
    "matrizIdentidad = np.eye(int(2))\n",
    "U3Unitary = np.dot(np.conjugate(U3).T,U3)\n",
    "isUnitary = np.allclose(U3Unitary,matrizIdentidad)\n",
    "if isUnitary:\n",
    "    print(\"Si es unataria\")\n",
    "\n",
    "# 4.4.2\n",
    "print(\"4.4.2\")\n",
    "b = 1/(2**(1/2))\n",
    "estado =np.array(np.transpose([1,0,0,0]))\n",
    "matriz = np.array([[0,b,b,0],[(1j/(2**(1/2))),0,0,b],[b,0,0,1j/(2**(1/2))],[0,b,-b,0]])\n",
    "for rep in range (3):\n",
    "    estado = np.dot(matriz,estado)\n",
    "print(\"El estado despues de tres pasos es el siguiente: \", estado)\n",
    "\n",
    "# 4.5.1\n",
    "print(\"4.5.1\")\n",
    "print(\"Replicamos el ejemplo que esta antes del ejercicio\")\n",
    "num = 1 + 1j\n",
    "probabilidad = 4/(4*16)\n",
    "print(\"La probabilidad de cualquier punto es :\",probabilidad)\n",
    "\n",
    "\n"
   ]
  }
 ],
 "metadata": {
  "kernelspec": {
   "display_name": "Python 3",
   "language": "python",
   "name": "python3"
  },
  "language_info": {
   "codemirror_mode": {
    "name": "ipython",
    "version": 3
   },
   "file_extension": ".py",
   "mimetype": "text/x-python",
   "name": "python",
   "nbconvert_exporter": "python",
   "pygments_lexer": "ipython3",
   "version": "3.11.9"
  }
 },
 "nbformat": 4,
 "nbformat_minor": 2
}
