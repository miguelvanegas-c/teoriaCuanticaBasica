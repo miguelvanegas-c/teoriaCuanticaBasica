{
 "cells": [
  {
   "cell_type": "markdown",
   "metadata": {},
   "source": [
    "# Simule el primer sistema cuántico descrito en la sección 4.1.\n",
    "\n",
    " El sistema consiste en una partícula confinada a un conjunto discreto de posiciones en una línea. El simulador debe permitir especificar el número de posiciones y un vector ket de estado asignando las amplitudes.\n",
    "\n",
    "1. El sistema debe calcular la probabilidad de encontrarlo en una posición en particular.\n",
    "\n",
    "2. El sistema si se le da otro vector Ket debe buscar la probabilidad de transitar del primer vector al segundo."
   ]
  },
  {
   "cell_type": "code",
   "execution_count": 11,
   "metadata": {},
   "outputs": [
    {
     "name": "stdout",
     "output_type": "stream",
     "text": [
      "La probabilidad de que una aprticula se encuentre en la posicion  0\n",
      "0.4999999999999999\n",
      "La probabilidad de transicion entre el vector  [0.70710678 0.         0.         0.70710678 0.        ]  y el vector  [0. 0. 1. 0. 0.]\n",
      "0.0\n"
     ]
    }
   ],
   "source": [
    "import numpy as np\n",
    "\n",
    "# primer punto\n",
    "# Primero definir las precondiciones del sistema.\n",
    "numeroDePosiciones = 5 \n",
    "vectorKet = np.array([1,0,0,1,0])\n",
    "\n",
    "# Se encontrara la norma del vectorKet.\n",
    "vectorKetNorma = np.linalg.norm(vectorKet)\n",
    "vectorKet = vectorKet / vectorKetNorma\n",
    "\n",
    "posicion = 0 # Posicion de la cual se quiere saber la probabilidad\n",
    "print(\"La probabilidad de que una aprticula se encuentre en la posicion \",posicion)\n",
    "probabilidadPosicion = vectorKet[0]**2\n",
    "print(probabilidadPosicion)\n",
    "\n",
    "vectorKet2 = np.array([0,0,1,0,0]) # Vector el cual se quiere calcular la probabilidad de transicion\n",
    "# Se encontrara la norma del vectorKet2.\n",
    "vectorKet2Norma = np.linalg.norm(vectorKet2)\n",
    "vectorKet2 = vectorKet2 / vectorKet2Norma\n",
    "\n",
    "probabilidadTransicion = np.dot(vectorKet2.T,vectorKet)\n",
    "print(\"La probabilidad de transicion entre el vector \",vectorKet, \" y el vector \", vectorKet2)\n",
    "print(probabilidadTransicion)\n",
    "\n",
    "\n"
   ]
  }
 ],
 "metadata": {
  "kernelspec": {
   "display_name": ".venv",
   "language": "python",
   "name": "python3"
  },
  "language_info": {
   "codemirror_mode": {
    "name": "ipython",
    "version": 3
   },
   "file_extension": ".py",
   "mimetype": "text/x-python",
   "name": "python",
   "nbconvert_exporter": "python",
   "pygments_lexer": "ipython3",
   "version": "3.11.9"
  }
 },
 "nbformat": 4,
 "nbformat_minor": 2
}
